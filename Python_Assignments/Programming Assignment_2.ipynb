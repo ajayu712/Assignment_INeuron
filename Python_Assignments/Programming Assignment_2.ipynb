{
 "cells": [
  {
   "cell_type": "markdown",
   "id": "08c66ea5",
   "metadata": {},
   "source": [
    "## Programming Assignment_2\n",
    "-------------"
   ]
  },
  {
   "cell_type": "markdown",
   "id": "4e50cf42",
   "metadata": {},
   "source": [
    "### 1. Write a Python program to convert kilometers to miles?\n"
   ]
  },
  {
   "cell_type": "code",
   "execution_count": 3,
   "id": "769db559",
   "metadata": {},
   "outputs": [
    {
     "name": "stdout",
     "output_type": "stream",
     "text": [
      "3 Kilometers is 1.863 Miles\n"
     ]
    }
   ],
   "source": [
    "milesVal = 0.621\n",
    "kmVal = int(input(\"Enter Kilometer values to Convert: \"))\n",
    "print(f\"{kmVal} Kilometers is {milesVal*kmVal} Miles\")"
   ]
  },
  {
   "cell_type": "markdown",
   "id": "0df4e6bf",
   "metadata": {},
   "source": [
    "### 2.Write a Python program to convert Celsius to Fahrenheit?"
   ]
  },
  {
   "cell_type": "code",
   "execution_count": 7,
   "id": "37df7d1f",
   "metadata": {},
   "outputs": [
    {
     "name": "stdout",
     "output_type": "stream",
     "text": [
      "2 Celcius is 35.6 Fahrenheit\n"
     ]
    }
   ],
   "source": [
    "celVal = int(input(\"Enter Celcius values to Convert: \"))\n",
    "farVal = round((celVal*(9/5))+32,2)\n",
    "print(f\"{celVal} Degree Celcius is {farVal} Degree Fahrenheit\")"
   ]
  },
  {
   "cell_type": "markdown",
   "id": "46129b8e",
   "metadata": {},
   "source": [
    "### 3. Write a Python program to display calendar?\n"
   ]
  },
  {
   "cell_type": "code",
   "execution_count": 8,
   "id": "7f287f0c",
   "metadata": {},
   "outputs": [
    {
     "name": "stdout",
     "output_type": "stream",
     "text": [
      "    August 2022\n",
      "Mo Tu We Th Fr Sa Su\n",
      " 1  2  3  4  5  6  7\n",
      " 8  9 10 11 12 13 14\n",
      "15 16 17 18 19 20 21\n",
      "22 23 24 25 26 27 28\n",
      "29 30 31\n",
      "\n"
     ]
    }
   ],
   "source": [
    "import calendar\n",
    "month_val = int(input(\"Enter Month Value: \"))\n",
    "year_val = int(input(\"Enter Year Value: \"))\n",
    "print(calendar.month(year_val,month_val))"
   ]
  },
  {
   "cell_type": "markdown",
   "id": "db2bf0f7",
   "metadata": {},
   "source": [
    "### 4. Write a Python program to solve quadratic equation?"
   ]
  },
  {
   "cell_type": "code",
   "execution_count": 10,
   "id": "1f6d0c3e",
   "metadata": {},
   "outputs": [
    {
     "name": "stdout",
     "output_type": "stream",
     "text": [
      "The solution are (-1-1.4142135623730951j) and (-1+1.4142135623730951j)\n"
     ]
    }
   ],
   "source": [
    "# ax**2 + bx + c = 0\n",
    "# Solved Using (-b ± (b ** 2 - 4 * a * c) ** 0.5) / (2 * a)\n",
    "import cmath\n",
    "\n",
    "a = 4\n",
    "b = 8\n",
    "c = 12\n",
    "\n",
    "# Discriminant\n",
    "d = (b**2) - (4*a*c)\n",
    "\n",
    "# find two solutions\n",
    "root1 = (-b-cmath.sqrt(d))/(2*a)\n",
    "root2 = (-b+cmath.sqrt(d))/(2*a)\n",
    "\n",
    "print('The solution are {0} and {1}'.format(root1,root2))"
   ]
  },
  {
   "cell_type": "markdown",
   "id": "f70f74c9",
   "metadata": {},
   "source": [
    "### 5. Write a Python program to swap two variables without temp variable?"
   ]
  },
  {
   "cell_type": "code",
   "execution_count": 11,
   "id": "0badce86",
   "metadata": {},
   "outputs": [
    {
     "name": "stdout",
     "output_type": "stream",
     "text": [
      "val2 val1\n"
     ]
    }
   ],
   "source": [
    "var1 = \"val1\"\n",
    "var2 = \"val2\"\n",
    "(var1,var2)=(var2,var1)\n",
    "print(var1,var2)"
   ]
  },
  {
   "cell_type": "code",
   "execution_count": null,
   "id": "8ecbecf4",
   "metadata": {},
   "outputs": [],
   "source": []
  }
 ],
 "metadata": {
  "kernelspec": {
   "display_name": "Python 3.9.1 64-bit",
   "language": "python",
   "name": "python3"
  },
  "language_info": {
   "codemirror_mode": {
    "name": "ipython",
    "version": 3
   },
   "file_extension": ".py",
   "mimetype": "text/x-python",
   "name": "python",
   "nbconvert_exporter": "python",
   "pygments_lexer": "ipython3",
   "version": "3.9.1"
  },
  "vscode": {
   "interpreter": {
    "hash": "7f17c46cf3553b61eeb89052fbf916d1346ae953eb91bc236734ae64b262b896"
   }
  }
 },
 "nbformat": 4,
 "nbformat_minor": 5
}
